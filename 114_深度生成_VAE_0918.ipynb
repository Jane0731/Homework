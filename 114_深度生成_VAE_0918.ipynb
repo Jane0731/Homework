{
  "nbformat": 4,
  "nbformat_minor": 0,
  "metadata": {
    "colab": {
      "provenance": [],
      "gpuType": "T4",
      "authorship_tag": "ABX9TyNVFlSe94Ta9kCLFNylUDWz",
      "include_colab_link": true
    },
    "kernelspec": {
      "name": "python3",
      "display_name": "Python 3"
    },
    "language_info": {
      "name": "python"
    },
    "accelerator": "GPU"
  },
  "cells": [
    {
      "cell_type": "markdown",
      "metadata": {
        "id": "view-in-github",
        "colab_type": "text"
      },
      "source": [
        "<a href=\"https://colab.research.google.com/github/Jane0731/Homework/blob/main/114_%E6%B7%B1%E5%BA%A6%E7%94%9F%E6%88%90_VAE_0918.ipynb\" target=\"_parent\"><img src=\"https://colab.research.google.com/assets/colab-badge.svg\" alt=\"Open In Colab\"/></a>"
      ]
    },
    {
      "cell_type": "code",
      "execution_count": 1,
      "metadata": {
        "id": "KnmZOjZ2YbTU"
      },
      "outputs": [],
      "source": [
        "import torch\n",
        "import torch.nn as nn\n",
        "import torch.optim as optim\n",
        "import torch.nn.functional as F\n",
        "from torch.utils.data import DataLoader\n",
        "from torchvision import datasets, transforms\n",
        "import matplotlib.pyplot as plt\n",
        "import numpy as np\n",
        "import os"
      ]
    },
    {
      "cell_type": "code",
      "source": [
        "# 設定環境變數解決 OpenMP 警告\n",
        "os.environ['KMP_DUPLICATE_LIB_OK'] = 'TRUE'"
      ],
      "metadata": {
        "id": "R7qMuMqeY7hH"
      },
      "execution_count": 2,
      "outputs": []
    },
    {
      "cell_type": "code",
      "source": [
        "# 設定裝置\n",
        "device = torch.device('cuda' if torch.cuda.is_available() else 'cpu')\n",
        "print(f'使用裝置: {device}')"
      ],
      "metadata": {
        "colab": {
          "base_uri": "https://localhost:8080/"
        },
        "id": "HOPiM8gNY94M",
        "outputId": "0d92c94b-7403-44ac-b9be-ac4ee6d9670b"
      },
      "execution_count": 3,
      "outputs": [
        {
          "output_type": "stream",
          "name": "stdout",
          "text": [
            "使用裝置: cuda\n"
          ]
        }
      ]
    },
    {
      "cell_type": "code",
      "source": [
        "# 超參數設定\n",
        "batch_size = 128\n",
        "learning_rate = 1e-3\n",
        "epochs = 10\n",
        "latent_dim = 20  # 潛在空間維度"
      ],
      "metadata": {
        "id": "Dmd2L1kLY_Dk"
      },
      "execution_count": 4,
      "outputs": []
    },
    {
      "cell_type": "code",
      "source": [
        "# 資料預處理\n",
        "transform = transforms.Compose([\n",
        "    transforms.ToTensor(),\n",
        "    transforms.Normalize((0.5,), (0.5,))  # 正規化到[-1, 1]\n",
        "])"
      ],
      "metadata": {
        "id": "885zt1OwZEIN"
      },
      "execution_count": 5,
      "outputs": []
    },
    {
      "cell_type": "code",
      "source": [
        "# 載入 MNIST 資料集\n",
        "train_dataset = datasets.MNIST(root='./data', train=True, download=True, transform=transform)\n",
        "test_dataset = datasets.MNIST(root='./data', train=False, download=True, transform=transform)\n",
        "\n",
        "train_loader = DataLoader(train_dataset, batch_size=batch_size, shuffle=True)\n",
        "test_loader = DataLoader(test_dataset, batch_size=batch_size, shuffle=False)\n"
      ],
      "metadata": {
        "colab": {
          "base_uri": "https://localhost:8080/"
        },
        "id": "-HMg5H-aZFOG",
        "outputId": "b30440a7-f5ab-4647-f3b2-7d771cf6d4d4"
      },
      "execution_count": 6,
      "outputs": [
        {
          "output_type": "stream",
          "name": "stderr",
          "text": [
            "100%|██████████| 9.91M/9.91M [00:00<00:00, 17.9MB/s]\n",
            "100%|██████████| 28.9k/28.9k [00:00<00:00, 486kB/s]\n",
            "100%|██████████| 1.65M/1.65M [00:00<00:00, 4.49MB/s]\n",
            "100%|██████████| 4.54k/4.54k [00:00<00:00, 10.4MB/s]\n"
          ]
        }
      ]
    },
    {
      "cell_type": "code",
      "source": [
        "# VAE 模型定義\n",
        "class VAE(nn.Module):\n",
        "    def __init__(self, input_dim=784, latent_dim=20):\n",
        "        super(VAE, self).__init__()\n",
        "\n",
        "        # Encoder\n",
        "        self.encoder = nn.Sequential(\n",
        "            nn.Linear(input_dim, 512),\n",
        "            nn.ReLU(),\n",
        "            nn.Linear(512, 256),\n",
        "            nn.ReLU(),\n",
        "        )\n",
        "\n",
        "        # 潛在空間的均值和對數方差\n",
        "        self.fc_mu = nn.Linear(256, latent_dim)\n",
        "        self.fc_logvar = nn.Linear(256, latent_dim)\n",
        "\n",
        "        # Decoder\n",
        "        self.decoder = nn.Sequential(\n",
        "            nn.Linear(latent_dim, 256),\n",
        "            nn.ReLU(),\n",
        "            nn.Linear(256, 512),\n",
        "            nn.ReLU(),\n",
        "            nn.Linear(512, input_dim),\n",
        "            nn.Tanh()  # 輸出範圍 [-1, 1]\n",
        "        )\n",
        "\n",
        "    def encode(self, x):\n",
        "        h = self.encoder(x)\n",
        "        mu = self.fc_mu(h)\n",
        "        logvar = self.fc_logvar(h)\n",
        "        return mu, logvar\n",
        "\n",
        "    def reparameterize(self, mu, logvar):\n",
        "        std = torch.exp(0.5 * logvar)\n",
        "        eps = torch.randn_like(std)\n",
        "        return mu + eps * std\n",
        "\n",
        "    def decode(self, z):\n",
        "        return self.decoder(z)\n",
        "\n",
        "    def forward(self, x):\n",
        "        mu, logvar = self.encode(x.view(-1, 784))\n",
        "        z = self.reparameterize(mu, logvar)\n",
        "        return self.decode(z), mu, logvar"
      ],
      "metadata": {
        "id": "Nfl1gKkVZG47"
      },
      "execution_count": 7,
      "outputs": []
    },
    {
      "cell_type": "code",
      "source": [
        "# 損失函數\n",
        "def vae_loss(recon_x, x, mu, logvar):\n",
        "    # 重建損失 (Binary Cross Entropy)\n",
        "    recon_loss = F.mse_loss(recon_x, x.view(-1, 784), reduction='sum')\n",
        "\n",
        "    # KL 散度\n",
        "    kl_div = -0.5 * torch.sum(1 + logvar - mu.pow(2) - logvar.exp())\n",
        "\n",
        "    return recon_loss + kl_div"
      ],
      "metadata": {
        "id": "UPuTH-5EZI3Q"
      },
      "execution_count": 8,
      "outputs": []
    },
    {
      "cell_type": "code",
      "source": [
        "# 初始化模型\n",
        "model = VAE(latent_dim=latent_dim).to(device)\n",
        "optimizer = optim.Adam(model.parameters(), lr=learning_rate)"
      ],
      "metadata": {
        "id": "N5XOsfBvZKJs"
      },
      "execution_count": 9,
      "outputs": []
    },
    {
      "cell_type": "code",
      "source": [
        "# 訓練函數\n",
        "def train(epoch):\n",
        "    model.train()\n",
        "    train_loss = 0\n",
        "    for batch_idx, (data, _) in enumerate(train_loader):\n",
        "        data = data.to(device)\n",
        "        optimizer.zero_grad()\n",
        "\n",
        "        recon_batch, mu, logvar = model(data)\n",
        "        loss = vae_loss(recon_batch, data, mu, logvar)\n",
        "\n",
        "        loss.backward()\n",
        "        train_loss += loss.item()\n",
        "        optimizer.step()\n",
        "\n",
        "        if batch_idx % 100 == 0:\n",
        "            print(f'訓練 Epoch: {epoch} [{batch_idx * len(data)}/{len(train_loader.dataset)} '\n",
        "                  f'({100. * batch_idx / len(train_loader):.0f}%)]\\t損失: {loss.item() / len(data):.6f}')\n",
        "\n",
        "    print(f'====> Epoch: {epoch} 平均損失: {train_loss / len(train_loader.dataset):.4f}')\n",
        "    return train_loss / len(train_loader.dataset)\n"
      ],
      "metadata": {
        "id": "lvplYqiEZLN0"
      },
      "execution_count": 10,
      "outputs": []
    },
    {
      "cell_type": "code",
      "source": [
        "# 測試函數\n",
        "def test():\n",
        "    model.eval()\n",
        "    test_loss = 0\n",
        "    with torch.no_grad():\n",
        "        for data, _ in test_loader:\n",
        "            data = data.to(device)\n",
        "            recon_batch, mu, logvar = model(data)\n",
        "            test_loss += vae_loss(recon_batch, data, mu, logvar).item()\n",
        "\n",
        "    test_loss /= len(test_loader.dataset)\n",
        "    print(f'====> 測試集損失: {test_loss:.4f}')\n",
        "    return test_loss"
      ],
      "metadata": {
        "id": "auCA66kTZMbb"
      },
      "execution_count": 11,
      "outputs": []
    },
    {
      "cell_type": "code",
      "source": [
        "# 開始訓練\n",
        "train_losses = []\n",
        "for epoch in range(1, epochs + 1):\n",
        "    train_loss = train(epoch)\n",
        "    test_loss = test()\n",
        "    train_losses.append(train_loss)"
      ],
      "metadata": {
        "colab": {
          "base_uri": "https://localhost:8080/"
        },
        "id": "YM7vEA1yZNfF",
        "outputId": "da1d4e79-da67-40b3-c147-8bdda291bd5c"
      },
      "execution_count": 12,
      "outputs": [
        {
          "output_type": "stream",
          "name": "stdout",
          "text": [
            "訓練 Epoch: 1 [0/60000 (0%)]\t損失: 731.330383\n",
            "訓練 Epoch: 1 [12800/60000 (21%)]\t損失: 190.459473\n",
            "訓練 Epoch: 1 [25600/60000 (43%)]\t損失: 138.843994\n",
            "訓練 Epoch: 1 [38400/60000 (64%)]\t損失: 116.589844\n",
            "訓練 Epoch: 1 [51200/60000 (85%)]\t損失: 108.724304\n",
            "====> Epoch: 1 平均損失: 149.8552\n",
            "====> 測試集損失: 102.4682\n",
            "訓練 Epoch: 2 [0/60000 (0%)]\t損失: 109.094902\n",
            "訓練 Epoch: 2 [12800/60000 (21%)]\t損失: 98.230888\n",
            "訓練 Epoch: 2 [25600/60000 (43%)]\t損失: 94.401840\n",
            "訓練 Epoch: 2 [38400/60000 (64%)]\t損失: 91.072197\n",
            "訓練 Epoch: 2 [51200/60000 (85%)]\t損失: 92.497208\n",
            "====> Epoch: 2 平均損失: 93.1446\n",
            "====> 測試集損失: 85.0999\n",
            "訓練 Epoch: 3 [0/60000 (0%)]\t損失: 91.106064\n",
            "訓練 Epoch: 3 [12800/60000 (21%)]\t損失: 82.030029\n",
            "訓練 Epoch: 3 [25600/60000 (43%)]\t損失: 86.136383\n",
            "訓練 Epoch: 3 [38400/60000 (64%)]\t損失: 85.753387\n",
            "訓練 Epoch: 3 [51200/60000 (85%)]\t損失: 82.201813\n",
            "====> Epoch: 3 平均損失: 82.5839\n",
            "====> 測試集損失: 78.6147\n",
            "訓練 Epoch: 4 [0/60000 (0%)]\t損失: 76.495651\n",
            "訓練 Epoch: 4 [12800/60000 (21%)]\t損失: 79.774796\n",
            "訓練 Epoch: 4 [25600/60000 (43%)]\t損失: 74.176651\n",
            "訓練 Epoch: 4 [38400/60000 (64%)]\t損失: 75.692596\n",
            "訓練 Epoch: 4 [51200/60000 (85%)]\t損失: 78.286575\n",
            "====> Epoch: 4 平均損失: 77.5418\n",
            "====> 測試集損失: 75.9618\n",
            "訓練 Epoch: 5 [0/60000 (0%)]\t損失: 76.211624\n",
            "訓練 Epoch: 5 [12800/60000 (21%)]\t損失: 74.422592\n",
            "訓練 Epoch: 5 [25600/60000 (43%)]\t損失: 76.959412\n",
            "訓練 Epoch: 5 [38400/60000 (64%)]\t損失: 73.104973\n",
            "訓練 Epoch: 5 [51200/60000 (85%)]\t損失: 70.532082\n",
            "====> Epoch: 5 平均損失: 74.4114\n",
            "====> 測試集損失: 73.0788\n",
            "訓練 Epoch: 6 [0/60000 (0%)]\t損失: 72.934723\n",
            "訓練 Epoch: 6 [12800/60000 (21%)]\t損失: 76.868210\n",
            "訓練 Epoch: 6 [25600/60000 (43%)]\t損失: 70.645073\n",
            "訓練 Epoch: 6 [38400/60000 (64%)]\t損失: 71.111633\n",
            "訓練 Epoch: 6 [51200/60000 (85%)]\t損失: 68.318985\n",
            "====> Epoch: 6 平均損失: 72.1908\n",
            "====> 測試集損失: 70.8032\n",
            "訓練 Epoch: 7 [0/60000 (0%)]\t損失: 67.469162\n",
            "訓練 Epoch: 7 [12800/60000 (21%)]\t損失: 70.121223\n",
            "訓練 Epoch: 7 [25600/60000 (43%)]\t損失: 74.293381\n",
            "訓練 Epoch: 7 [38400/60000 (64%)]\t損失: 72.845009\n",
            "訓練 Epoch: 7 [51200/60000 (85%)]\t損失: 72.263260\n",
            "====> Epoch: 7 平均損失: 70.5532\n",
            "====> 測試集損失: 70.0373\n",
            "訓練 Epoch: 8 [0/60000 (0%)]\t損失: 72.672958\n",
            "訓練 Epoch: 8 [12800/60000 (21%)]\t損失: 66.577583\n",
            "訓練 Epoch: 8 [25600/60000 (43%)]\t損失: 66.771469\n",
            "訓練 Epoch: 8 [38400/60000 (64%)]\t損失: 71.901703\n",
            "訓練 Epoch: 8 [51200/60000 (85%)]\t損失: 72.086975\n",
            "====> Epoch: 8 平均損失: 69.3315\n",
            "====> 測試集損失: 68.6292\n",
            "訓練 Epoch: 9 [0/60000 (0%)]\t損失: 70.702080\n",
            "訓練 Epoch: 9 [12800/60000 (21%)]\t損失: 69.106888\n",
            "訓練 Epoch: 9 [25600/60000 (43%)]\t損失: 69.901405\n",
            "訓練 Epoch: 9 [38400/60000 (64%)]\t損失: 64.856796\n",
            "訓練 Epoch: 9 [51200/60000 (85%)]\t損失: 63.805424\n",
            "====> Epoch: 9 平均損失: 68.3462\n",
            "====> 測試集損失: 68.4494\n",
            "訓練 Epoch: 10 [0/60000 (0%)]\t損失: 68.131744\n",
            "訓練 Epoch: 10 [12800/60000 (21%)]\t損失: 64.558395\n",
            "訓練 Epoch: 10 [25600/60000 (43%)]\t損失: 65.324539\n",
            "訓練 Epoch: 10 [38400/60000 (64%)]\t損失: 64.062866\n",
            "訓練 Epoch: 10 [51200/60000 (85%)]\t損失: 69.865990\n",
            "====> Epoch: 10 平均損失: 67.4694\n",
            "====> 測試集損失: 67.5165\n"
          ]
        }
      ]
    },
    {
      "cell_type": "code",
      "source": [
        "# 繪製損失曲線\n",
        "plt.figure(figsize=(10, 5))\n",
        "plt.plot(range(1, epochs + 1), train_losses, 'b-', label='train_loss')\n",
        "plt.xlabel('Epoch')\n",
        "plt.ylabel('Loss')\n",
        "plt.title('VAE Train Loss Curve')\n",
        "plt.legend()\n",
        "plt.grid(True)\n",
        "plt.show()"
      ],
      "metadata": {
        "colab": {
          "base_uri": "https://localhost:8080/",
          "height": 487
        },
        "id": "OlbATMKgZOir",
        "outputId": "c9c35d2c-1789-48ce-a491-509dca2c96c8"
      },
      "execution_count": 21,
      "outputs": [
        {
          "output_type": "display_data",
          "data": {
            "text/plain": [
              "<Figure size 1000x500 with 1 Axes>"
            ],
            "image/png": "[encoded data removed]"
          },
          "metadata": {}
        }
      ]
    },
    {
      "cell_type": "code",
      "source": [
        "# 視覺化重建結果\n",
        "def visualize_reconstruction(num_samples=8):\n",
        "    model.eval()\n",
        "    with torch.no_grad():\n",
        "        # 取得一些測試樣本\n",
        "        data, _ = next(iter(test_loader))\n",
        "        data = data[:num_samples].to(device)\n",
        "\n",
        "        # 重建圖像\n",
        "        recon_batch, _, _ = model(data)\n",
        "\n",
        "        # 準備顯示\n",
        "        data = data.cpu()\n",
        "        recon_batch = recon_batch.view(-1, 1, 28, 28).cpu()\n",
        "\n",
        "        # 創建子圖\n",
        "        fig, axes = plt.subplots(2, num_samples, figsize=(15, 4))\n",
        "\n",
        "        for i in range(num_samples):\n",
        "            # 原始圖像\n",
        "            axes[0, i].imshow(data[i].squeeze(), cmap='gray')\n",
        "            axes[0, i].set_title('原始')\n",
        "            axes[0, i].axis('off')\n",
        "\n",
        "            # 重建圖像\n",
        "            axes[1, i].imshow(recon_batch[i].squeeze(), cmap='gray')\n",
        "            axes[1, i].set_title('重建')\n",
        "            axes[1, i].axis('off')\n",
        "\n",
        "        plt.suptitle('MNIST 手寫數字重建結果', fontsize=16)\n",
        "        plt.tight_layout()\n",
        "        plt.show()"
      ],
      "metadata": {
        "id": "UZfut0_3ZTNs"
      },
      "execution_count": 14,
      "outputs": []
    },
    {
      "cell_type": "code",
      "source": [
        "# 生成新的樣本\n",
        "def generate_samples(num_samples=8):\n",
        "    model.eval()\n",
        "    with torch.no_grad():\n",
        "        # 從標準常態分布中採樣\n",
        "        z = torch.randn(num_samples, latent_dim).to(device)\n",
        "        samples = model.decode(z).view(-1, 1, 28, 28).cpu()\n",
        "\n",
        "        # 顯示生成的樣本\n",
        "        fig, axes = plt.subplots(1, num_samples, figsize=(15, 2))\n",
        "        for i in range(num_samples):\n",
        "            axes[i].imshow(samples[i].squeeze(), cmap='gray')\n",
        "            axes[i].set_title(f'生成 {i+1}')\n",
        "            axes[i].axis('off')\n",
        "\n",
        "        plt.suptitle('VAE 生成的新樣本', fontsize=16)\n",
        "        plt.tight_layout()\n",
        "        plt.show()\n"
      ],
      "metadata": {
        "id": "zZhCPpEPZUo3"
      },
      "execution_count": 15,
      "outputs": []
    },
    {
      "cell_type": "code",
      "source": [
        "# 顯示結果\n",
        "print(\"顯示重建結果...\")\n",
        "visualize_reconstruction()\n",
        "\n",
        "print(\"顯示生成樣本...\")\n",
        "generate_samples()"
      ],
      "metadata": {
        "colab": {
          "base_uri": "https://localhost:8080/",
          "height": 1000
        },
        "id": "h5LZTlHbZWIp",
        "outputId": "f693b5b2-62c4-49a8-a3ab-84822db5101e"
      },
      "execution_count": 16,
      "outputs": [
        {
          "output_type": "stream",
          "name": "stdout",
          "text": [
            "顯示重建結果...\n"
          ]
        },
        {
          "output_type": "stream",
          "name": "stderr",
          "text": [
            "/tmp/ipython-input-3910100223.py:31: UserWarning: Glyph 21407 (\\N{CJK UNIFIED IDEOGRAPH-539F}) missing from font(s) DejaVu Sans.\n",
            "  plt.tight_layout()\n",
            "/tmp/ipython-input-3910100223.py:31: UserWarning: Glyph 22987 (\\N{CJK UNIFIED IDEOGRAPH-59CB}) missing from font(s) DejaVu Sans.\n",
            "  plt.tight_layout()\n",
            "/tmp/ipython-input-3910100223.py:31: UserWarning: Glyph 37325 (\\N{CJK UNIFIED IDEOGRAPH-91CD}) missing from font(s) DejaVu Sans.\n",
            "  plt.tight_layout()\n",
            "/tmp/ipython-input-3910100223.py:31: UserWarning: Glyph 24314 (\\N{CJK UNIFIED IDEOGRAPH-5EFA}) missing from font(s) DejaVu Sans.\n",
            "  plt.tight_layout()\n",
            "/tmp/ipython-input-3910100223.py:31: UserWarning: Glyph 25163 (\\N{CJK UNIFIED IDEOGRAPH-624B}) missing from font(s) DejaVu Sans.\n",
            "  plt.tight_layout()\n",
            "/tmp/ipython-input-3910100223.py:31: UserWarning: Glyph 23531 (\\N{CJK UNIFIED IDEOGRAPH-5BEB}) missing from font(s) DejaVu Sans.\n",
            "  plt.tight_layout()\n",
            "/tmp/ipython-input-3910100223.py:31: UserWarning: Glyph 25976 (\\N{CJK UNIFIED IDEOGRAPH-6578}) missing from font(s) DejaVu Sans.\n",
            "  plt.tight_layout()\n",
            "/tmp/ipython-input-3910100223.py:31: UserWarning: Glyph 23383 (\\N{CJK UNIFIED IDEOGRAPH-5B57}) missing from font(s) DejaVu Sans.\n",
            "  plt.tight_layout()\n",
            "/tmp/ipython-input-3910100223.py:31: UserWarning: Glyph 32080 (\\N{CJK UNIFIED IDEOGRAPH-7D50}) missing from font(s) DejaVu Sans.\n",
            "  plt.tight_layout()\n",
            "/tmp/ipython-input-3910100223.py:31: UserWarning: Glyph 26524 (\\N{CJK UNIFIED IDEOGRAPH-679C}) missing from font(s) DejaVu Sans.\n",
            "  plt.tight_layout()\n",
            "/usr/local/lib/python3.12/dist-packages/IPython/core/pylabtools.py:151: UserWarning: Glyph 21407 (\\N{CJK UNIFIED IDEOGRAPH-539F}) missing from font(s) DejaVu Sans.\n",
            "  fig.canvas.print_figure(bytes_io, **kw)\n",
            "/usr/local/lib/python3.12/dist-packages/IPython/core/pylabtools.py:151: UserWarning: Glyph 22987 (\\N{CJK UNIFIED IDEOGRAPH-59CB}) missing from font(s) DejaVu Sans.\n",
            "  fig.canvas.print_figure(bytes_io, **kw)\n",
            "/usr/local/lib/python3.12/dist-packages/IPython/core/pylabtools.py:151: UserWarning: Glyph 37325 (\\N{CJK UNIFIED IDEOGRAPH-91CD}) missing from font(s) DejaVu Sans.\n",
            "  fig.canvas.print_figure(bytes_io, **kw)\n",
            "/usr/local/lib/python3.12/dist-packages/IPython/core/pylabtools.py:151: UserWarning: Glyph 24314 (\\N{CJK UNIFIED IDEOGRAPH-5EFA}) missing from font(s) DejaVu Sans.\n",
            "  fig.canvas.print_figure(bytes_io, **kw)\n",
            "/usr/local/lib/python3.12/dist-packages/IPython/core/pylabtools.py:151: UserWarning: Glyph 25163 (\\N{CJK UNIFIED IDEOGRAPH-624B}) missing from font(s) DejaVu Sans.\n",
            "  fig.canvas.print_figure(bytes_io, **kw)\n",
            "/usr/local/lib/python3.12/dist-packages/IPython/core/pylabtools.py:151: UserWarning: Glyph 23531 (\\N{CJK UNIFIED IDEOGRAPH-5BEB}) missing from font(s) DejaVu Sans.\n",
            "  fig.canvas.print_figure(bytes_io, **kw)\n",
            "/usr/local/lib/python3.12/dist-packages/IPython/core/pylabtools.py:151: UserWarning: Glyph 25976 (\\N{CJK UNIFIED IDEOGRAPH-6578}) missing from font(s) DejaVu Sans.\n",
            "  fig.canvas.print_figure(bytes_io, **kw)\n",
            "/usr/local/lib/python3.12/dist-packages/IPython/core/pylabtools.py:151: UserWarning: Glyph 23383 (\\N{CJK UNIFIED IDEOGRAPH-5B57}) missing from font(s) DejaVu Sans.\n",
            "  fig.canvas.print_figure(bytes_io, **kw)\n",
            "/usr/local/lib/python3.12/dist-packages/IPython/core/pylabtools.py:151: UserWarning: Glyph 32080 (\\N{CJK UNIFIED IDEOGRAPH-7D50}) missing from font(s) DejaVu Sans.\n",
            "  fig.canvas.print_figure(bytes_io, **kw)\n",
            "/usr/local/lib/python3.12/dist-packages/IPython/core/pylabtools.py:151: UserWarning: Glyph 26524 (\\N{CJK UNIFIED IDEOGRAPH-679C}) missing from font(s) DejaVu Sans.\n",
            "  fig.canvas.print_figure(bytes_io, **kw)\n"
          ]
        },
        {
          "output_type": "display_data",
          "data": {
            "text/plain": [
              "<Figure size 1500x400 with 16 Axes>"
            ],
            "image/png": "[encoded data removed]"
          },
          "metadata": {}
        },
        {
          "output_type": "stream",
          "name": "stderr",
          "text": [
            "/tmp/ipython-input-4170905885.py:17: UserWarning: Glyph 29983 (\\N{CJK UNIFIED IDEOGRAPH-751F}) missing from font(s) DejaVu Sans.\n",
            "  plt.tight_layout()\n",
            "/tmp/ipython-input-4170905885.py:17: UserWarning: Glyph 25104 (\\N{CJK UNIFIED IDEOGRAPH-6210}) missing from font(s) DejaVu Sans.\n",
            "  plt.tight_layout()\n"
          ]
        },
        {
          "output_type": "stream",
          "name": "stdout",
          "text": [
            "顯示生成樣本...\n"
          ]
        },
        {
          "output_type": "stream",
          "name": "stderr",
          "text": [
            "/tmp/ipython-input-4170905885.py:17: UserWarning: Glyph 30340 (\\N{CJK UNIFIED IDEOGRAPH-7684}) missing from font(s) DejaVu Sans.\n",
            "  plt.tight_layout()\n",
            "/tmp/ipython-input-4170905885.py:17: UserWarning: Glyph 26032 (\\N{CJK UNIFIED IDEOGRAPH-65B0}) missing from font(s) DejaVu Sans.\n",
            "  plt.tight_layout()\n",
            "/tmp/ipython-input-4170905885.py:17: UserWarning: Glyph 27171 (\\N{CJK UNIFIED IDEOGRAPH-6A23}) missing from font(s) DejaVu Sans.\n",
            "  plt.tight_layout()\n",
            "/tmp/ipython-input-4170905885.py:17: UserWarning: Glyph 26412 (\\N{CJK UNIFIED IDEOGRAPH-672C}) missing from font(s) DejaVu Sans.\n",
            "  plt.tight_layout()\n",
            "/usr/local/lib/python3.12/dist-packages/IPython/core/pylabtools.py:151: UserWarning: Glyph 29983 (\\N{CJK UNIFIED IDEOGRAPH-751F}) missing from font(s) DejaVu Sans.\n",
            "  fig.canvas.print_figure(bytes_io, **kw)\n",
            "/usr/local/lib/python3.12/dist-packages/IPython/core/pylabtools.py:151: UserWarning: Glyph 25104 (\\N{CJK UNIFIED IDEOGRAPH-6210}) missing from font(s) DejaVu Sans.\n",
            "  fig.canvas.print_figure(bytes_io, **kw)\n",
            "/usr/local/lib/python3.12/dist-packages/IPython/core/pylabtools.py:151: UserWarning: Glyph 30340 (\\N{CJK UNIFIED IDEOGRAPH-7684}) missing from font(s) DejaVu Sans.\n",
            "  fig.canvas.print_figure(bytes_io, **kw)\n",
            "/usr/local/lib/python3.12/dist-packages/IPython/core/pylabtools.py:151: UserWarning: Glyph 26032 (\\N{CJK UNIFIED IDEOGRAPH-65B0}) missing from font(s) DejaVu Sans.\n",
            "  fig.canvas.print_figure(bytes_io, **kw)\n",
            "/usr/local/lib/python3.12/dist-packages/IPython/core/pylabtools.py:151: UserWarning: Glyph 27171 (\\N{CJK UNIFIED IDEOGRAPH-6A23}) missing from font(s) DejaVu Sans.\n",
            "  fig.canvas.print_figure(bytes_io, **kw)\n",
            "/usr/local/lib/python3.12/dist-packages/IPython/core/pylabtools.py:151: UserWarning: Glyph 26412 (\\N{CJK UNIFIED IDEOGRAPH-672C}) missing from font(s) DejaVu Sans.\n",
            "  fig.canvas.print_figure(bytes_io, **kw)\n"
          ]
        },
        {
          "output_type": "display_data",
          "data": {
            "text/plain": [
              "<Figure size 1500x200 with 8 Axes>"
            ],
            "image/png": "[encoded data removed]"
          },
          "metadata": {}
        }
      ]
    },
    {
      "cell_type": "code",
      "source": [
        "# 儲存模型\n",
        "torch.save(model.state_dict(), 'vae_mnist_model.pth')\n",
        "print(\"模型已儲存為 'vae_mnist_model.pth'\")"
      ],
      "metadata": {
        "colab": {
          "base_uri": "https://localhost:8080/"
        },
        "id": "g7B9aWCZZXPD",
        "outputId": "4ffd2b8c-2fc0-4f96-c6be-479393aa8b4a"
      },
      "execution_count": 17,
      "outputs": [
        {
          "output_type": "stream",
          "name": "stdout",
          "text": [
            "模型已儲存為 'vae_mnist_model.pth'\n"
          ]
        }
      ]
    },
    {
      "cell_type": "code",
      "source": [
        "print(\"訓練完成！\")"
      ],
      "metadata": {
        "colab": {
          "base_uri": "https://localhost:8080/"
        },
        "id": "txh-EFCFZY05",
        "outputId": "750286d0-8bd2-4fd4-8e89-4cb0bd7f489e"
      },
      "execution_count": 18,
      "outputs": [
        {
          "output_type": "stream",
          "name": "stdout",
          "text": [
            "訓練完成！\n"
          ]
        }
      ]
    },
    {
      "cell_type": "code",
      "source": [],
      "metadata": {
        "id": "Gxixt9idZZyO"
      },
      "execution_count": null,
      "outputs": []
    }
  ]
}